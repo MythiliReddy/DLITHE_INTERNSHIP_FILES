{
 "cells": [
  {
   "cell_type": "code",
   "execution_count": null,
   "metadata": {
    "id": "GQwiZVRvafdi"
   },
   "outputs": [],
   "source": [
    " # Tuple, Set, Dictionary"
   ]
  },
  {
   "cell_type": "code",
   "execution_count": null,
   "metadata": {
    "id": "nkBAhGihf4Tx"
   },
   "outputs": [],
   "source": []
  },
  {
   "cell_type": "code",
   "execution_count": null,
   "metadata": {
    "id": "AOm3_ux4awT6"
   },
   "outputs": [],
   "source": [
    "bmi_categories = (\"Underweight\", \"Normal\", \"Overweight\", \"Very Overweight\")"
   ]
  },
  {
   "cell_type": "code",
   "execution_count": null,
   "metadata": {
    "colab": {
     "base_uri": "https://localhost:8080/"
    },
    "id": "6TnCmx1obc1b",
    "outputId": "f9ecc7d8-aeb2-46e4-881e-23f04c89ec82"
   },
   "outputs": [
    {
     "name": "stdout",
     "output_type": "stream",
     "text": [
      "<class 'tuple'>\n"
     ]
    }
   ],
   "source": [
    "print(type(bmi_categories))"
   ]
  },
  {
   "cell_type": "code",
   "execution_count": null,
   "metadata": {
    "colab": {
     "base_uri": "https://localhost:8080/"
    },
    "id": "Mbr15ys7boyG",
    "outputId": "1e23c396-4bd6-4656-f9ad-5c0686d22d14"
   },
   "outputs": [
    {
     "name": "stdout",
     "output_type": "stream",
     "text": [
      "Underweight\n"
     ]
    }
   ],
   "source": [
    "print(bmi_categories[0])"
   ]
  },
  {
   "cell_type": "code",
   "execution_count": null,
   "metadata": {
    "colab": {
     "base_uri": "https://localhost:8080/"
    },
    "id": "nqjjDDMqbubW",
    "outputId": "4b58fdde-9106-4160-d8d8-9ad0e7b0494e"
   },
   "outputs": [
    {
     "name": "stdout",
     "output_type": "stream",
     "text": [
      "Very Overweight\n"
     ]
    }
   ],
   "source": [
    "print(bmi_categories[-1])"
   ]
  },
  {
   "cell_type": "code",
   "execution_count": null,
   "metadata": {
    "colab": {
     "base_uri": "https://localhost:8080/"
    },
    "id": "ZbSjsvU7bxsb",
    "outputId": "6202344f-c480-461f-cf27-f76487bd71f7"
   },
   "outputs": [
    {
     "name": "stdout",
     "output_type": "stream",
     "text": [
      "('Underweight', 'Normal')\n"
     ]
    }
   ],
   "source": [
    "print(bmi_categories[0:2])"
   ]
  },
  {
   "cell_type": "code",
   "execution_count": null,
   "metadata": {
    "colab": {
     "base_uri": "https://localhost:8080/"
    },
    "id": "uCybZaevb67L",
    "outputId": "31fcf5d7-50f0-406e-87ba-a5d95021e96f"
   },
   "outputs": [
    {
     "name": "stdout",
     "output_type": "stream",
     "text": [
      "1\n"
     ]
    }
   ],
   "source": [
    "print(bmi_categories.index(\"Normal\"))"
   ]
  },
  {
   "cell_type": "code",
   "execution_count": null,
   "metadata": {
    "colab": {
     "base_uri": "https://localhost:8080/"
    },
    "id": "-1B7GxTacDtK",
    "outputId": "54dec799-2fab-4729-98e2-b47d6fb51d53"
   },
   "outputs": [
    {
     "name": "stdout",
     "output_type": "stream",
     "text": [
      "3\n"
     ]
    }
   ],
   "source": [
    "print(bmi_categories.index(\"Very Overweight\"))"
   ]
  },
  {
   "cell_type": "code",
   "execution_count": null,
   "metadata": {
    "colab": {
     "base_uri": "https://localhost:8080/",
     "height": 174
    },
    "id": "Dff68qh5cMmN",
    "outputId": "ed63db9a-decf-4eaa-aefa-5edd24d84b62"
   },
   "outputs": [
    {
     "ename": "ValueError",
     "evalue": "ignored",
     "output_type": "error",
     "traceback": [
      "\u001b[0;31m---------------------------------------------------------------------------\u001b[0m",
      "\u001b[0;31mValueError\u001b[0m                                Traceback (most recent call last)",
      "\u001b[0;32m<ipython-input-9-bff9db74eedf>\u001b[0m in \u001b[0;36m<module>\u001b[0;34m()\u001b[0m\n\u001b[0;32m----> 1\u001b[0;31m \u001b[0mprint\u001b[0m\u001b[0;34m(\u001b[0m\u001b[0mbmi_categories\u001b[0m\u001b[0;34m.\u001b[0m\u001b[0mindex\u001b[0m\u001b[0;34m(\u001b[0m\u001b[0;34m\"Very Underweight\"\u001b[0m\u001b[0;34m)\u001b[0m\u001b[0;34m)\u001b[0m\u001b[0;34m\u001b[0m\u001b[0;34m\u001b[0m\u001b[0m\n\u001b[0m",
      "\u001b[0;31mValueError\u001b[0m: tuple.index(x): x not in tuple"
     ]
    }
   ],
   "source": [
    "print(bmi_categories.index(\"Very Underweight\"))"
   ]
  },
  {
   "cell_type": "code",
   "execution_count": null,
   "metadata": {
    "colab": {
     "base_uri": "https://localhost:8080/"
    },
    "id": "d_ttVUBRcZdc",
    "outputId": "ef7edd8d-d2da-4e32-ca92-12e19f3e71e7"
   },
   "outputs": [
    {
     "name": "stdout",
     "output_type": "stream",
     "text": [
      "False\n"
     ]
    }
   ],
   "source": [
    "print(\"Very Underweight\" in bmi_categories)"
   ]
  },
  {
   "cell_type": "code",
   "execution_count": null,
   "metadata": {
    "colab": {
     "base_uri": "https://localhost:8080/"
    },
    "id": "4bgVuLtRcjQO",
    "outputId": "c09c9582-6367-42e4-89a7-6f2870cd2640"
   },
   "outputs": [
    {
     "name": "stdout",
     "output_type": "stream",
     "text": [
      "True\n"
     ]
    }
   ],
   "source": [
    "print(\"Very Overweight\" in bmi_categories)"
   ]
  },
  {
   "cell_type": "code",
   "execution_count": null,
   "metadata": {
    "id": "oNoDXSRIdvy4"
   },
   "outputs": [],
   "source": [
    "%%timeit?"
   ]
  },
  {
   "cell_type": "code",
   "execution_count": null,
   "metadata": {
    "colab": {
     "base_uri": "https://localhost:8080/"
    },
    "id": "KjnM2HG5dxqO",
    "outputId": "6812aa45-b381-4189-fe3b-b7138634339f"
   },
   "outputs": [
    {
     "name": "stdout",
     "output_type": "stream",
     "text": [
      "1 loop, best of 10: 33.7 ms per loop\n"
     ]
    }
   ],
   "source": [
    "%%timeit -n1 -r10\n",
    "for i in range(1000000):\n",
    "  my_tuple = (\"hello1\", \"hello2\", \"hello3\", \"hello4\", \"hello5\")"
   ]
  },
  {
   "cell_type": "code",
   "execution_count": null,
   "metadata": {
    "id": "ETIZ53ovf6aY"
   },
   "outputs": [],
   "source": [
    "# Set"
   ]
  },
  {
   "cell_type": "code",
   "execution_count": null,
   "metadata": {
    "id": "K1otDvaDeZLf"
   },
   "outputs": [],
   "source": [
    "batsmen = {\"Rohit\", \"Virat\", \"Rahul\", \"Ravindra\"}"
   ]
  },
  {
   "cell_type": "code",
   "execution_count": null,
   "metadata": {
    "colab": {
     "base_uri": "https://localhost:8080/"
    },
    "id": "anAsC0HXgqBb",
    "outputId": "55528ec1-427c-440e-d8d0-1a15920b3467"
   },
   "outputs": [
    {
     "name": "stdout",
     "output_type": "stream",
     "text": [
      "<class 'set'>\n"
     ]
    }
   ],
   "source": [
    "print(type(batsmen))"
   ]
  },
  {
   "cell_type": "code",
   "execution_count": null,
   "metadata": {
    "colab": {
     "base_uri": "https://localhost:8080/"
    },
    "id": "lgOgG00cgshC",
    "outputId": "225b7655-14a9-40e8-c38a-3dfa4b91ae8c"
   },
   "outputs": [
    {
     "name": "stdout",
     "output_type": "stream",
     "text": [
      "False\n"
     ]
    }
   ],
   "source": [
    "print(\"Bumrah\" in batsmen)"
   ]
  },
  {
   "cell_type": "code",
   "execution_count": null,
   "metadata": {
    "colab": {
     "base_uri": "https://localhost:8080/"
    },
    "id": "D-3N1Loagwxj",
    "outputId": "79673d2b-2ee7-47ef-b353-f4ee91fed914"
   },
   "outputs": [
    {
     "name": "stdout",
     "output_type": "stream",
     "text": [
      "True\n"
     ]
    }
   ],
   "source": [
    "print(\"Virat\" in batsmen)"
   ]
  },
  {
   "cell_type": "code",
   "execution_count": null,
   "metadata": {
    "colab": {
     "base_uri": "https://localhost:8080/",
     "height": 174
    },
    "id": "NOeY7Zlsg3NH",
    "outputId": "2c59bda5-7135-4433-faf0-90b668c37f4b"
   },
   "outputs": [
    {
     "ename": "AttributeError",
     "evalue": "ignored",
     "output_type": "error",
     "traceback": [
      "\u001b[0;31m---------------------------------------------------------------------------\u001b[0m",
      "\u001b[0;31mAttributeError\u001b[0m                            Traceback (most recent call last)",
      "\u001b[0;32m<ipython-input-23-2031d29ef3f1>\u001b[0m in \u001b[0;36m<module>\u001b[0;34m()\u001b[0m\n\u001b[0;32m----> 1\u001b[0;31m \u001b[0mprint\u001b[0m\u001b[0;34m(\u001b[0m\u001b[0mbatsmen\u001b[0m\u001b[0;34m.\u001b[0m\u001b[0mindex\u001b[0m\u001b[0;34m(\u001b[0m\u001b[0;34m\"Rohit\"\u001b[0m\u001b[0;34m)\u001b[0m\u001b[0;34m)\u001b[0m\u001b[0;34m\u001b[0m\u001b[0;34m\u001b[0m\u001b[0m\n\u001b[0m",
      "\u001b[0;31mAttributeError\u001b[0m: 'set' object has no attribute 'index'"
     ]
    }
   ],
   "source": [
    "print(batsmen.index(\"Rohit\"))"
   ]
  },
  {
   "cell_type": "code",
   "execution_count": null,
   "metadata": {
    "id": "4245ET2YhD0Y"
   },
   "outputs": [],
   "source": [
    "bowlers = {\"Ishant\", \"Bumrah\", \"Ravindra\"}"
   ]
  },
  {
   "cell_type": "code",
   "execution_count": null,
   "metadata": {
    "colab": {
     "base_uri": "https://localhost:8080/"
    },
    "id": "T2LoUtWBhSXT",
    "outputId": "65b0dc5d-2afb-4db5-e19c-e3adb34d0adc"
   },
   "outputs": [
    {
     "name": "stdout",
     "output_type": "stream",
     "text": [
      "<class 'set'>\n"
     ]
    }
   ],
   "source": [
    "print(type(bowlers))"
   ]
  },
  {
   "cell_type": "code",
   "execution_count": null,
   "metadata": {
    "id": "bkFqXhT_hU3f"
   },
   "outputs": [],
   "source": [
    "allrounders = batsmen.intersection(bowlers)"
   ]
  },
  {
   "cell_type": "code",
   "execution_count": null,
   "metadata": {
    "colab": {
     "base_uri": "https://localhost:8080/"
    },
    "id": "WkTO8Y8mhkGV",
    "outputId": "4ea2ec3f-9a2b-46ae-edcf-a4cb38c97da8"
   },
   "outputs": [
    {
     "name": "stdout",
     "output_type": "stream",
     "text": [
      "{'Ravindra'}\n"
     ]
    }
   ],
   "source": [
    "print(allrounders)"
   ]
  },
  {
   "cell_type": "code",
   "execution_count": null,
   "metadata": {
    "id": "X6q75VYUhmst"
   },
   "outputs": [],
   "source": [
    "players = batsmen.union(bowlers)"
   ]
  },
  {
   "cell_type": "code",
   "execution_count": null,
   "metadata": {
    "colab": {
     "base_uri": "https://localhost:8080/"
    },
    "id": "pQ0elZs7h3Pt",
    "outputId": "7b3a0caf-060e-4f93-ab13-e4fca174f1ac"
   },
   "outputs": [
    {
     "name": "stdout",
     "output_type": "stream",
     "text": [
      "{'Ravindra', 'Ishant', 'Bumrah', 'Rohit', 'Virat', 'Rahul'}\n"
     ]
    }
   ],
   "source": [
    "print(players)"
   ]
  },
  {
   "cell_type": "code",
   "execution_count": null,
   "metadata": {
    "colab": {
     "base_uri": "https://localhost:8080/"
    },
    "id": "mpjYCCNah5dp",
    "outputId": "4a930a83-2cb7-4693-ee12-6e649f14fbfd"
   },
   "outputs": [
    {
     "name": "stdout",
     "output_type": "stream",
     "text": [
      "<class 'set'>\n"
     ]
    }
   ],
   "source": [
    "print(type(players))"
   ]
  },
  {
   "cell_type": "code",
   "execution_count": null,
   "metadata": {
    "colab": {
     "base_uri": "https://localhost:8080/"
    },
    "id": "me4PBgFbh4ht",
    "outputId": "5a8fbe76-54c9-46c1-90da-cb933c2bd6ae"
   },
   "outputs": [
    {
     "data": {
      "text/plain": [
       "{'Bumrah', 'Ishant', 'Ravindra'}"
      ]
     },
     "execution_count": 31,
     "metadata": {
      "tags": []
     },
     "output_type": "execute_result"
    }
   ],
   "source": [
    "bowlers = {\"Ishant\", \"Bumrah\", \"Ravindra\", \"Bumrah\"}\n",
    "bowlers"
   ]
  },
  {
   "cell_type": "markdown",
   "metadata": {
    "id": "fr7qZpksi56g"
   },
   "source": [
    "### Search Benchmarking"
   ]
  },
  {
   "cell_type": "code",
   "execution_count": null,
   "metadata": {
    "colab": {
     "base_uri": "https://localhost:8080/"
    },
    "id": "CoQtIJwSiQ_O",
    "outputId": "fe6d7b27-f932-499d-87ea-f7cf00b144ed"
   },
   "outputs": [
    {
     "name": "stdout",
     "output_type": "stream",
     "text": [
      "1 loop, best of 10: 293 ms per loop\n"
     ]
    }
   ],
   "source": [
    "%%timeit -n1 -r10\n",
    "my_list = list(range(10000))\n",
    "for i in range(10000):\n",
    "  b = 1947 in my_list"
   ]
  },
  {
   "cell_type": "code",
   "execution_count": null,
   "metadata": {
    "colab": {
     "base_uri": "https://localhost:8080/"
    },
    "id": "wmPcEgQai0zl",
    "outputId": "b3d26502-fe82-4b2d-df7d-174ee3d2bddd"
   },
   "outputs": [
    {
     "name": "stdout",
     "output_type": "stream",
     "text": [
      "1 loop, best of 10: 292 ms per loop\n"
     ]
    }
   ],
   "source": [
    "%%timeit -n1 -r10\n",
    "my_tuple = tuple(range(10000))\n",
    "for i in range(10000):\n",
    "  b = 1947 in my_tuple"
   ]
  },
  {
   "cell_type": "code",
   "execution_count": null,
   "metadata": {
    "colab": {
     "base_uri": "https://localhost:8080/"
    },
    "id": "f1fQyeNbjKdS",
    "outputId": "24eb1e8c-0ff3-4d82-fae8-8238e1aa96a2"
   },
   "outputs": [
    {
     "name": "stdout",
     "output_type": "stream",
     "text": [
      "The slowest run took 6.08 times longer than the fastest. This could mean that an intermediate result is being cached.\n",
      "1 loop, best of 10: 944 µs per loop\n"
     ]
    }
   ],
   "source": [
    "%%timeit -n1 -r10\n",
    "my_set = set(range(10000))\n",
    "for i in range(10000):\n",
    "  b = 1947 in my_set"
   ]
  },
  {
   "cell_type": "markdown",
   "metadata": {
    "id": "l6VeXYWZkaYs"
   },
   "source": [
    "# Dictionary"
   ]
  },
  {
   "cell_type": "code",
   "execution_count": null,
   "metadata": {
    "id": "UQ_J_Sr9jU0s"
   },
   "outputs": [],
   "source": [
    "labels = (\"name\", \"weight\", \"height\", \"is_overweight\")\n",
    "bmi_dataset = [\n",
    "               [\"Krishna\", 75, 1.73, False],\n",
    "               [\"David\", 120, 1.78, True]\n",
    "]"
   ]
  },
  {
   "cell_type": "code",
   "execution_count": null,
   "metadata": {
    "id": "o4HG-GOQktPd"
   },
   "outputs": [],
   "source": [
    "bmi_record = {\n",
    "    \"name\" : \"Krishna\",\n",
    "    \"weight\" : 75,\n",
    "    \"height\" : 1.73,\n",
    "    \"is_overweight\" : False\n",
    "}"
   ]
  },
  {
   "cell_type": "code",
   "execution_count": null,
   "metadata": {
    "colab": {
     "base_uri": "https://localhost:8080/",
     "height": 36
    },
    "id": "GlzFJacklRfA",
    "outputId": "f62afd4b-3fe7-4926-99d2-81d5f03c881f"
   },
   "outputs": [
    {
     "data": {
      "application/vnd.google.colaboratory.intrinsic+json": {
       "type": "string"
      },
      "text/plain": [
       "'Krishna'"
      ]
     },
     "execution_count": 38,
     "metadata": {
      "tags": []
     },
     "output_type": "execute_result"
    }
   ],
   "source": [
    "bmi_record[\"name\"]"
   ]
  },
  {
   "cell_type": "code",
   "execution_count": null,
   "metadata": {
    "colab": {
     "base_uri": "https://localhost:8080/"
    },
    "id": "1t6J9RR_lVjg",
    "outputId": "2026d93d-f8c0-4e0e-ad79-53b34159f452"
   },
   "outputs": [
    {
     "data": {
      "text/plain": [
       "1.73"
      ]
     },
     "execution_count": 39,
     "metadata": {
      "tags": []
     },
     "output_type": "execute_result"
    }
   ],
   "source": [
    "bmi_record[\"height\"]"
   ]
  },
  {
   "cell_type": "code",
   "execution_count": null,
   "metadata": {
    "id": "r7BoBSSYlYTv"
   },
   "outputs": [],
   "source": [
    "bmi_record[\"email\"] = \"Krishna@mail.com\""
   ]
  },
  {
   "cell_type": "code",
   "execution_count": null,
   "metadata": {
    "colab": {
     "base_uri": "https://localhost:8080/"
    },
    "id": "13AUL7Y2ldR6",
    "outputId": "5ea9f12f-728c-4107-e890-46329f41406c"
   },
   "outputs": [
    {
     "data": {
      "text/plain": [
       "{'email': 'Krishna@mail.com',\n",
       " 'height': 1.73,\n",
       " 'is_overweight': False,\n",
       " 'name': 'Krishna',\n",
       " 'weight': 75}"
      ]
     },
     "execution_count": 41,
     "metadata": {
      "tags": []
     },
     "output_type": "execute_result"
    }
   ],
   "source": [
    "bmi_record"
   ]
  },
  {
   "cell_type": "code",
   "execution_count": null,
   "metadata": {
    "colab": {
     "base_uri": "https://localhost:8080/"
    },
    "id": "AnuL8VZyleHP",
    "outputId": "224d2010-3882-4a57-8644-08ac316347d3"
   },
   "outputs": [
    {
     "name": "stdout",
     "output_type": "stream",
     "text": [
      "Krishna\n",
      "75\n",
      "1.73\n",
      "False\n",
      "Krishna@mail.com\n"
     ]
    }
   ],
   "source": [
    "for key in bmi_record:\n",
    "  print(bmi_record[key])"
   ]
  },
  {
   "cell_type": "code",
   "execution_count": null,
   "metadata": {
    "colab": {
     "base_uri": "https://localhost:8080/"
    },
    "id": "uaup1kZMlp1D",
    "outputId": "ece46f91-fa68-4f8f-99a9-c199a143a83b"
   },
   "outputs": [
    {
     "name": "stdout",
     "output_type": "stream",
     "text": [
      "name : Krishna\n",
      "weight : 75\n",
      "height : 1.73\n",
      "is_overweight : False\n",
      "email : Krishna@mail.com\n"
     ]
    }
   ],
   "source": [
    "for key in bmi_record:\n",
    "  print(key, \":\", bmi_record[key])"
   ]
  },
  {
   "cell_type": "code",
   "execution_count": null,
   "metadata": {
    "colab": {
     "base_uri": "https://localhost:8080/"
    },
    "id": "Vc-0Vji0lsYK",
    "outputId": "1e9e2b4a-3099-448f-a400-773db2961bf1"
   },
   "outputs": [
    {
     "name": "stdout",
     "output_type": "stream",
     "text": [
      "dict_keys(['name', 'weight', 'height', 'is_overweight', 'email'])\n"
     ]
    }
   ],
   "source": [
    "print(bmi_record.keys())"
   ]
  },
  {
   "cell_type": "code",
   "execution_count": null,
   "metadata": {
    "colab": {
     "base_uri": "https://localhost:8080/"
    },
    "id": "W849TUKglzrm",
    "outputId": "9ccdeacb-5c2f-44d1-9ffe-63c6e36d92fb"
   },
   "outputs": [
    {
     "name": "stdout",
     "output_type": "stream",
     "text": [
      "<class 'list'>\n"
     ]
    }
   ],
   "source": [
    "print(type(list(bmi_record.keys())))"
   ]
  },
  {
   "cell_type": "code",
   "execution_count": null,
   "metadata": {
    "id": "cgU62kNcl3kj"
   },
   "outputs": [],
   "source": [
    "bmi_record = {\n",
    "    \"name\" : \"Krishna\",\n",
    "    \"weight\" : 75,\n",
    "    \"height\" : 1.73,\n",
    "    \"is_overweight\" : False\n",
    "}"
   ]
  },
  {
   "cell_type": "code",
   "execution_count": null,
   "metadata": {
    "colab": {
     "base_uri": "https://localhost:8080/"
    },
    "id": "AW8lQfnUmMPi",
    "outputId": "f646d2e2-039b-4c2e-8dfc-7f8b5bbc6bb4"
   },
   "outputs": [
    {
     "data": {
      "text/plain": [
       "{'height': 1.78, 'is_overweight': True, 'name': 'David', 'weight': 120}"
      ]
     },
     "execution_count": 50,
     "metadata": {
      "tags": []
     },
     "output_type": "execute_result"
    }
   ],
   "source": [
    "new_bmi_record = {\n",
    "    \"name\" : \"David\",\n",
    "    \"weight\" : 120,\n",
    "    \"height\" : 1.78,\n",
    "    \"is_overweight\" : True\n",
    "}\n",
    "new_bmi_record"
   ]
  },
  {
   "cell_type": "code",
   "execution_count": null,
   "metadata": {
    "id": "gGU9F_z9mYgn"
   },
   "outputs": [],
   "source": [
    "records = [bmi_record, new_bmi_record]"
   ]
  },
  {
   "cell_type": "code",
   "execution_count": null,
   "metadata": {
    "colab": {
     "base_uri": "https://localhost:8080/"
    },
    "id": "NvSEPahjmjll",
    "outputId": "b2d38fbc-0417-440f-861d-967b0cc093ad"
   },
   "outputs": [
    {
     "data": {
      "text/plain": [
       "[{'height': 1.73, 'is_overweight': False, 'name': 'Krishna', 'weight': 75},\n",
       " {'height': 1.78, 'is_overweight': True, 'name': 'David', 'weight': 120}]"
      ]
     },
     "execution_count": 52,
     "metadata": {
      "tags": []
     },
     "output_type": "execute_result"
    }
   ],
   "source": [
    "records"
   ]
  },
  {
   "cell_type": "code",
   "execution_count": null,
   "metadata": {
    "colab": {
     "base_uri": "https://localhost:8080/"
    },
    "id": "4pDCOHIjmkQr",
    "outputId": "e50e1ac6-fcdd-4268-ac28-399123267fc4"
   },
   "outputs": [
    {
     "data": {
      "text/plain": [
       "float"
      ]
     },
     "execution_count": 55,
     "metadata": {
      "tags": []
     },
     "output_type": "execute_result"
    }
   ],
   "source": [
    "type(records[0][\"height\"])"
   ]
  },
  {
   "cell_type": "code",
   "execution_count": null,
   "metadata": {
    "colab": {
     "base_uri": "https://localhost:8080/"
    },
    "id": "F-5I6gcVnPvB",
    "outputId": "b8dbe2a6-a8ab-42db-b8bb-e25e957fea56"
   },
   "outputs": [
    {
     "data": {
      "text/plain": [
       "1.73"
      ]
     },
     "execution_count": 56,
     "metadata": {
      "tags": []
     },
     "output_type": "execute_result"
    }
   ],
   "source": [
    "records[0][\"height\"]"
   ]
  },
  {
   "cell_type": "code",
   "execution_count": null,
   "metadata": {
    "colab": {
     "base_uri": "https://localhost:8080/",
     "height": 36
    },
    "id": "ZWmcaeOLnVQF",
    "outputId": "80f782fc-3442-495f-a74f-96999e450d09"
   },
   "outputs": [
    {
     "data": {
      "application/vnd.google.colaboratory.intrinsic+json": {
       "type": "string"
      },
      "text/plain": [
       "'Krishna'"
      ]
     },
     "execution_count": 57,
     "metadata": {
      "tags": []
     },
     "output_type": "execute_result"
    }
   ],
   "source": [
    "records[0][\"name\"]"
   ]
  },
  {
   "cell_type": "code",
   "execution_count": null,
   "metadata": {
    "id": "scERnZD5nX95"
   },
   "outputs": [],
   "source": []
  }
 ],
 "metadata": {
  "colab": {
   "collapsed_sections": [],
   "name": "Day6_Data_Science.ipynb",
   "provenance": []
  },
  "kernelspec": {
   "display_name": "Python 3",
   "language": "python",
   "name": "python3"
  },
  "language_info": {
   "codemirror_mode": {
    "name": "ipython",
    "version": 3
   },
   "file_extension": ".py",
   "mimetype": "text/x-python",
   "name": "python",
   "nbconvert_exporter": "python",
   "pygments_lexer": "ipython3",
   "version": "3.8.8"
  }
 },
 "nbformat": 4,
 "nbformat_minor": 1
}
